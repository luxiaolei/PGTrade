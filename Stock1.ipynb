{
 "cells": [
  {
   "cell_type": "markdown",
   "metadata": {},
   "source": [
    "- Try a simple stock market RL algo. \n",
    "- Construct a stock market env, keep original Actor-critic PG.\n"
   ]
  },
  {
   "cell_type": "markdown",
   "metadata": {},
   "source": [
    "For a simple time series stock, we define:\n",
    "- A, [Buy = 1, Hold = 0, Sell = -1]\n",
    "- State Market, [O, H, L, C, V, P(portifolioProce)]\n",
    "- Reawrd is calculated as holding return each trading day"
   ]
  },
  {
   "cell_type": "code",
   "execution_count": 1,
   "metadata": {
    "collapsed": true
   },
   "outputs": [],
   "source": [
    "import tushare as ts"
   ]
  },
  {
   "cell_type": "code",
   "execution_count": 2,
   "metadata": {
    "collapsed": false
   },
   "outputs": [
    {
     "name": "stdout",
     "output_type": "stream",
     "text": [
      "[Errno 54] Connection reset by peer\n",
      "[Errno 54] Connection reset by peer\n"
     ]
    }
   ],
   "source": [
    "df = ts.get_k_data(code='000001', start='2000-01-01', index=True)"
   ]
  },
  {
   "cell_type": "code",
   "execution_count": 3,
   "metadata": {
    "collapsed": false
   },
   "outputs": [
    {
     "data": {
      "text/html": [
       "<div>\n",
       "<table border=\"1\" class=\"dataframe\">\n",
       "  <thead>\n",
       "    <tr style=\"text-align: right;\">\n",
       "      <th></th>\n",
       "      <th>open</th>\n",
       "      <th>close</th>\n",
       "      <th>high</th>\n",
       "      <th>low</th>\n",
       "      <th>volume</th>\n",
       "    </tr>\n",
       "  </thead>\n",
       "  <tbody>\n",
       "    <tr>\n",
       "      <th>0</th>\n",
       "      <td>13.6869</td>\n",
       "      <td>14.0637</td>\n",
       "      <td>14.0752</td>\n",
       "      <td>13.6121</td>\n",
       "      <td>90340.2</td>\n",
       "    </tr>\n",
       "    <tr>\n",
       "      <th>1</th>\n",
       "      <td>14.0783</td>\n",
       "      <td>14.0968</td>\n",
       "      <td>14.3378</td>\n",
       "      <td>13.9832</td>\n",
       "      <td>105800.0</td>\n",
       "    </tr>\n",
       "    <tr>\n",
       "      <th>2</th>\n",
       "      <td>14.0604</td>\n",
       "      <td>14.6394</td>\n",
       "      <td>14.6395</td>\n",
       "      <td>14.0025</td>\n",
       "      <td>134805.0</td>\n",
       "    </tr>\n",
       "    <tr>\n",
       "      <th>3</th>\n",
       "      <td>14.7715</td>\n",
       "      <td>15.1660</td>\n",
       "      <td>15.2282</td>\n",
       "      <td>14.7715</td>\n",
       "      <td>345157.0</td>\n",
       "    </tr>\n",
       "    <tr>\n",
       "      <th>4</th>\n",
       "      <td>15.3171</td>\n",
       "      <td>15.4511</td>\n",
       "      <td>15.4672</td>\n",
       "      <td>15.0640</td>\n",
       "      <td>312535.0</td>\n",
       "    </tr>\n",
       "  </tbody>\n",
       "</table>\n",
       "</div>"
      ],
      "text/plain": [
       "      open    close     high      low    volume\n",
       "0  13.6869  14.0637  14.0752  13.6121   90340.2\n",
       "1  14.0783  14.0968  14.3378  13.9832  105800.0\n",
       "2  14.0604  14.6394  14.6395  14.0025  134805.0\n",
       "3  14.7715  15.1660  15.2282  14.7715  345157.0\n",
       "4  15.3171  15.4511  15.4672  15.0640  312535.0"
      ]
     },
     "execution_count": 3,
     "metadata": {},
     "output_type": "execute_result"
    }
   ],
   "source": [
    "df = df.ix[:, 1:-1]*0.01\n",
    "df.head()"
   ]
  },
  {
   "cell_type": "code",
   "execution_count": 59,
   "metadata": {
    "collapsed": true
   },
   "outputs": [],
   "source": [
    "class portfilio:\n",
    "    def __init__(self, initail=1000, trans=0.0005):\n",
    "        self.balence = initail\n",
    "        self.trans = trans\n",
    "        self.record = [initail]\n",
    "        \n",
    "        self.hold = 0\n",
    "        self.done = False\n",
    "        self.total = initail\n",
    "        self.reward = 0\n",
    "    def order(self, o_type, close, amount=10):\n",
    "        if o_type == 1: # sell\n",
    "            if self.hold >= amount:\n",
    "                self.balence += (1-self.trans)*(close*amount)\n",
    "                self.hold -= amount\n",
    "        elif o_type == 2: # buy\n",
    "            \n",
    "            self.balence -= (1+self.trans)*(close*amount)\n",
    "            if self.balence <= 0 :\n",
    "                self.done = True\n",
    "            else:\n",
    "                self.hold += amount\n",
    "        self.total = self.balence + self.hold*close\n",
    "        self.record += [self.total]\n",
    "        #print('Balence: {0}, Holds: {1}, Total: {2}, Earn {3}'.format(self.balence,self.hold,self.total,-self.record[0]+self.total))\n",
    "            "
   ]
  },
  {
   "cell_type": "code",
   "execution_count": 5,
   "metadata": {
    "collapsed": true
   },
   "outputs": [],
   "source": [
    "class Market:\n",
    "    def __init__(self, df):\n",
    "        self.market = df.values\n",
    "        self.market_g = self._market_g()\n",
    "        self.port = portfilio()\n",
    "        \n",
    "        self.num_state = 6\n",
    "        self.num_action = 3\n",
    "    \n",
    "    \n",
    "    def reset(self):\n",
    "        self.market_g = self._market_g()\n",
    "        self.port = portfilio()\n",
    "        \n",
    "        state = []\n",
    "        for _ in range(5):\n",
    "            o,h,l,c,v = next(self.market_g)\n",
    "            v /= 100000.\n",
    "            self.c = c\n",
    "            state += [[o,h,l,c,v, self.port.balence]]\n",
    "        self.state = state\n",
    "        return state\n",
    "        \n",
    "    def _market_g(self):\n",
    "        for o,h,l,c,v in self.market:\n",
    "            yield o,h,l,c,v\n",
    "            \n",
    "    def step(self, action):\n",
    "        if not self.port.done:\n",
    "            self.port.order(action, self.c)\n",
    "            \n",
    "            self.state.pop(0)\n",
    "            \n",
    "            o,h,l,c,v = next(self.market_g)\n",
    "            self.state += [[o,h,l,c,v, self.port.balence]]\n",
    "            \n",
    "            reward = self.port.hold * c\n",
    "            return self.state, reward, self.port.done\n",
    "        else:\n",
    "            print('bankrupt!')\n",
    "        \n",
    "        "
   ]
  },
  {
   "cell_type": "code",
   "execution_count": 6,
   "metadata": {
    "collapsed": true
   },
   "outputs": [],
   "source": [
    "from tensorflow.python.ops import rnn_cell\n",
    "import tensorflow as tf"
   ]
  },
  {
   "cell_type": "code",
   "execution_count": 60,
   "metadata": {
    "collapsed": true
   },
   "outputs": [],
   "source": [
    "class PolicyEstimator:\n",
    "    def __init__(self, learning_rate = 0.0001, scope='PolicyEstimator'):\n",
    "        num_units = 100\n",
    "        num_layers = 3\n",
    "        num_actions = 3\n",
    "        time_steps = 5\n",
    "        num_features = 6\n",
    "        \n",
    "        with tf.variable_scope(scope):\n",
    "            self.state = tf.placeholder(tf.float32, [1, time_steps, num_features])\n",
    "            self.action = tf.placeholder(tf.int32)\n",
    "            self.target = tf.placeholder(tf.float32)\n",
    "\n",
    "            cell_fn = rnn_cell.BasicLSTMCell(num_units=num_units, state_is_tuple=True)\n",
    "            cell = rnn_cell.MultiRNNCell([cell_fn]*num_layers, state_is_tuple=True)\n",
    "\n",
    "\n",
    "            state = tf.unpack(tf.transpose(self.state, perm=[1, 0, 2]))\n",
    "\n",
    "            outputs, state_rnn = tf.nn.rnn(cell, state, dtype=tf.float32)\n",
    "\n",
    "            weight = tf.Variable(tf.truncated_normal([num_units, num_actions], stddev=0.1))\n",
    "            bias = tf.Variable(tf.constant(0.1, shape=[3]))\n",
    "\n",
    "            self.prediction = tf.nn.softmax(tf.matmul(outputs[-1], weight) + bias)\n",
    "            self.action_prob = tf.gather(tf.squeeze(self.prediction), self.action)\n",
    "\n",
    "            self.loss = - tf.log(self.action_prob) * self.target\n",
    "\n",
    "\n",
    "            self.optimizer = tf.train.AdamOptimizer(learning_rate=learning_rate)\n",
    "            self.train_op = self.optimizer.minimize(self.loss, global_step=tf.contrib.framework.get_global_step())\n",
    "\n",
    "    def predict(self, state, sess=None):\n",
    "        sess = sess or tf.get_default_session()\n",
    "        return sess.run(self.prediction, { self.state: [state] })[0]\n",
    "\n",
    "    def update(self, state, target, action, sess=None):\n",
    "        sess = sess or tf.get_default_session()\n",
    "        feed_dict = { self.state: [state], self.target: target, self.action: action  }\n",
    "        _, loss = sess.run([self.train_op, self.loss], feed_dict)\n",
    "        return loss"
   ]
  },
  {
   "cell_type": "code",
   "execution_count": 8,
   "metadata": {
    "collapsed": false
   },
   "outputs": [
    {
     "name": "stdout",
     "output_type": "stream",
     "text": [
      "Balence: 849.28468, Holds: 10, Total: 999.92468, Earn -0.07532000000003336\n"
     ]
    }
   ],
   "source": [
    "m = Market(df)\n",
    "m.reset()\n",
    "state, r, d = m.step(2)\n"
   ]
  },
  {
   "cell_type": "code",
   "execution_count": 9,
   "metadata": {
    "collapsed": false
   },
   "outputs": [
    {
     "ename": "NameError",
     "evalue": "name 'pe' is not defined",
     "output_type": "error",
     "traceback": [
      "\u001b[0;31m---------------------------------------------------------------------------\u001b[0m",
      "\u001b[0;31mNameError\u001b[0m                                 Traceback (most recent call last)",
      "\u001b[0;32m<ipython-input-9-81279b230e4a>\u001b[0m in \u001b[0;36m<module>\u001b[0;34m()\u001b[0m\n\u001b[1;32m      5\u001b[0m \u001b[0;32mwith\u001b[0m \u001b[0mtf\u001b[0m\u001b[0;34m.\u001b[0m\u001b[0mSession\u001b[0m\u001b[0;34m(\u001b[0m\u001b[0;34m)\u001b[0m \u001b[0;32mas\u001b[0m \u001b[0msess\u001b[0m\u001b[0;34m:\u001b[0m\u001b[0;34m\u001b[0m\u001b[0m\n\u001b[1;32m      6\u001b[0m     \u001b[0msess\u001b[0m\u001b[0;34m.\u001b[0m\u001b[0mrun\u001b[0m\u001b[0;34m(\u001b[0m\u001b[0mtf\u001b[0m\u001b[0;34m.\u001b[0m\u001b[0minitialize_all_variables\u001b[0m\u001b[0;34m(\u001b[0m\u001b[0;34m)\u001b[0m\u001b[0;34m)\u001b[0m\u001b[0;34m\u001b[0m\u001b[0m\n\u001b[0;32m----> 7\u001b[0;31m     \u001b[0mpro\u001b[0m \u001b[0;34m=\u001b[0m \u001b[0mpe\u001b[0m\u001b[0;34m.\u001b[0m\u001b[0mpredict\u001b[0m\u001b[0;34m(\u001b[0m\u001b[0;34m[\u001b[0m\u001b[0mstate\u001b[0m\u001b[0;34m]\u001b[0m\u001b[0;34m,\u001b[0m \u001b[0msess\u001b[0m\u001b[0;34m=\u001b[0m\u001b[0msess\u001b[0m\u001b[0;34m)\u001b[0m\u001b[0;34m\u001b[0m\u001b[0m\n\u001b[0m",
      "\u001b[0;31mNameError\u001b[0m: name 'pe' is not defined"
     ]
    }
   ],
   "source": [
    "tf.reset_default_graph()\n",
    "\n",
    "global_step = tf.Variable(0, name=\"global_step\", trainable=False)\n",
    "\n"
   ]
  },
  {
   "cell_type": "code",
   "execution_count": 45,
   "metadata": {
    "collapsed": false
   },
   "outputs": [],
   "source": [
    "pe = PolicyEstimator(scope='V22222')"
   ]
  },
  {
   "cell_type": "code",
   "execution_count": 46,
   "metadata": {
    "collapsed": false
   },
   "outputs": [],
   "source": [
    "with tf.Session() as sess:\n",
    "    sess.run(tf.initialize_all_variables())\n",
    "    pro = pe.predict(np.array([state]), sess=sess)"
   ]
  },
  {
   "cell_type": "code",
   "execution_count": 48,
   "metadata": {
    "collapsed": false
   },
   "outputs": [
    {
     "data": {
      "text/plain": [
       "array([ 0.30726889,  0.32688516,  0.36584598], dtype=float32)"
      ]
     },
     "execution_count": 48,
     "metadata": {},
     "output_type": "execute_result"
    }
   ],
   "source": [
    "pro[0]"
   ]
  },
  {
   "cell_type": "code",
   "execution_count": 44,
   "metadata": {
    "collapsed": false
   },
   "outputs": [
    {
     "data": {
      "text/plain": [
       "-0.014547385"
      ]
     },
     "execution_count": 44,
     "metadata": {},
     "output_type": "execute_result"
    }
   ],
   "source": [
    "pro"
   ]
  },
  {
   "cell_type": "code",
   "execution_count": 16,
   "metadata": {
    "collapsed": false
   },
   "outputs": [
    {
     "data": {
      "text/plain": [
       "(1, 5, 6)"
      ]
     },
     "execution_count": 16,
     "metadata": {},
     "output_type": "execute_result"
    }
   ],
   "source": [
    "np.array([state]).shape"
   ]
  },
  {
   "cell_type": "code",
   "execution_count": 37,
   "metadata": {
    "collapsed": false
   },
   "outputs": [
    {
     "data": {
      "text/plain": [
       "-0.014547385"
      ]
     },
     "execution_count": 37,
     "metadata": {},
     "output_type": "execute_result"
    }
   ],
   "source": [
    "pro"
   ]
  },
  {
   "cell_type": "code",
   "execution_count": 15,
   "metadata": {
    "collapsed": false
   },
   "outputs": [
    {
     "data": {
      "text/plain": [
       "[[14.078299999999999,\n",
       "  14.096800000000002,\n",
       "  14.3378,\n",
       "  13.9832,\n",
       "  1.0580000000000001,\n",
       "  1000],\n",
       " [14.0604, 14.6394, 14.6395, 14.0025, 1.34805, 1000],\n",
       " [14.771500000000001,\n",
       "  15.165999999999999,\n",
       "  15.228199999999999,\n",
       "  14.771500000000001,\n",
       "  3.4515699999999998,\n",
       "  1000],\n",
       " [15.3171,\n",
       "  15.451099999999999,\n",
       "  15.4672,\n",
       "  15.064000000000002,\n",
       "  3.1253500000000001,\n",
       "  1000],\n",
       " [15.476800000000001,\n",
       "  14.797800000000001,\n",
       "  15.4771,\n",
       "  14.6876,\n",
       "  219246.0,\n",
       "  849.28467999999998]]"
      ]
     },
     "execution_count": 15,
     "metadata": {},
     "output_type": "execute_result"
    }
   ],
   "source": [
    "state"
   ]
  },
  {
   "cell_type": "code",
   "execution_count": 61,
   "metadata": {
    "collapsed": false
   },
   "outputs": [],
   "source": [
    "class ValueEstimator:\n",
    "    def __init__(self, learning_rate = 0.0001, scope='ValueEstimator'):\n",
    "        num_units = 100\n",
    "        num_layers = 3\n",
    "\n",
    "        time_steps = 5\n",
    "        num_features = 6\n",
    "        with tf.variable_scope(scope):\n",
    "            self.state = tf.placeholder(tf.float32, [1, time_steps, num_features])\n",
    "            self.target = tf.placeholder(tf.float32)\n",
    "\n",
    "            cell_fn = rnn_cell.BasicLSTMCell(num_units=num_units, state_is_tuple=True)\n",
    "            cell = rnn_cell.MultiRNNCell([cell_fn]*num_layers, state_is_tuple=True)\n",
    "\n",
    "\n",
    "            state = tf.unpack(tf.transpose(self.state, perm=[1, 0, 2]))\n",
    "\n",
    "            outputs, state_rnn = tf.nn.rnn(cell, state, dtype=tf.float32)\n",
    "\n",
    "            weight = tf.Variable(tf.truncated_normal([num_units, 1], stddev=0.1))\n",
    "            bias = tf.Variable(tf.constant(0.1, shape=[1]))\n",
    "\n",
    "\n",
    "            self.value_estimate = tf.squeeze(tf.matmul(outputs[-1], weight) + bias)\n",
    "            self.loss = tf.squared_difference(self.value_estimate, self.target)\n",
    "\n",
    "\n",
    "            self.optimizer = tf.train.AdamOptimizer(learning_rate=learning_rate)\n",
    "            self.train_op = self.optimizer.minimize(self.loss, global_step=tf.contrib.framework.get_global_step())\n",
    "\n",
    "    def predict(self, state, sess=None):\n",
    "        sess = sess or tf.get_default_session()\n",
    "        return sess.run(self.value_estimate, { self.state: [state] })\n",
    "\n",
    "    def update(self, state, target, sess=None):\n",
    "        sess = sess or tf.get_default_session()\n",
    "        feed_dict = { self.state: [state], self.target: target }\n",
    "        _, loss = sess.run([self.train_op, self.loss], feed_dict)\n",
    "        return loss"
   ]
  },
  {
   "cell_type": "code",
   "execution_count": 11,
   "metadata": {
    "collapsed": false
   },
   "outputs": [],
   "source": [
    "%matplotlib inline\n",
    "\n",
    "\n",
    "import itertools\n",
    "import matplotlib\n",
    "import numpy as np\n",
    "import sys\n",
    "import tensorflow as tf\n",
    "import collections\n",
    "\n",
    "if \"../\" not in sys.path:\n",
    "  sys.path.append(\"../\") \n",
    "\n",
    "from lib import plotting\n",
    "\n",
    "matplotlib.style.use('ggplot')"
   ]
  },
  {
   "cell_type": "code",
   "execution_count": 40,
   "metadata": {
    "collapsed": false
   },
   "outputs": [],
   "source": [
    "env = Market(df)"
   ]
  },
  {
   "cell_type": "code",
   "execution_count": 62,
   "metadata": {
    "collapsed": true
   },
   "outputs": [],
   "source": [
    "def actor_critic(env, estimator_policy, estimator_value, num_episodes, discount_factor=1.0):\n",
    "    \"\"\"\n",
    "    Actor Critic Algorithm. Optimizes the policy \n",
    "    function approximator using policy gradient.\n",
    "    \n",
    "    Args:\n",
    "        env: OpenAI environment.\n",
    "        estimator_policy: Policy Function to be optimized \n",
    "        estimator_value: Value function approximator, used as a baseline\n",
    "        num_episodes: Number of episodes to run for\n",
    "        discount_factor: Time-discount factor\n",
    "    \n",
    "    Returns:\n",
    "        An EpisodeStats object with two numpy arrays for episode_lengths and episode_rewards.\n",
    "    \"\"\"\n",
    "\n",
    "    # Keeps track of useful statistics\n",
    "    stats = plotting.EpisodeStats(\n",
    "        episode_lengths=np.zeros(num_episodes),\n",
    "        episode_rewards=np.zeros(num_episodes))    \n",
    "    \n",
    "    Transition = collections.namedtuple(\"Transition\", [\"state\", \"action\", \"reward\", \"next_state\", \"done\"])\n",
    "    \n",
    "    for i_episode in range(num_episodes):\n",
    "        # Reset the environment and pick the fisrst action\n",
    "        state = env.reset()\n",
    "        \n",
    "        episode = []\n",
    "        \n",
    "        # One step in the environment\n",
    "        for t in itertools.count():\n",
    "            \n",
    "            # Take a step\n",
    "            action_probs = estimator_policy.predict(state)\n",
    "            action = np.random.choice(np.arange(len(action_probs)), p=action_probs)\n",
    "            next_state, reward, done = env.step(action)\n",
    "            \n",
    "            # Keep track of the transition\n",
    "            episode.append(Transition(\n",
    "              state=state, action=action, reward=reward, next_state=next_state, done=done))\n",
    "            \n",
    "            # Update statistics\n",
    "            stats.episode_rewards[i_episode] += reward\n",
    "            stats.episode_lengths[i_episode] = t\n",
    "            \n",
    "            # Calculate TD Target\n",
    "            value_next = estimator_value.predict(next_state)\n",
    "            td_target = reward + discount_factor * value_next\n",
    "            td_error = td_target - estimator_value.predict(state)\n",
    "            \n",
    "            # Update the value estimator\n",
    "            estimator_value.update(state, td_target)\n",
    "            \n",
    "            # Update the policy estimator\n",
    "            # using the td error as our advantage estimate\n",
    "            estimator_policy.update(state, td_error, action)\n",
    "            \n",
    "            # Print out which step we're on, useful for debugging.\n",
    "            print(\"\\rStep {} @ Episode {}/{} ({})\".format(\n",
    "                    t, i_episode + 1, num_episodes, stats.episode_rewards[i_episode - 1]), end=\"\")\n",
    "\n",
    "            if done:\n",
    "                break\n",
    "                \n",
    "            state = next_state\n",
    "    \n",
    "    return stats"
   ]
  },
  {
   "cell_type": "code",
   "execution_count": 65,
   "metadata": {
    "collapsed": false
   },
   "outputs": [
    {
     "name": "stdout",
     "output_type": "stream",
     "text": [
      "Step 6 @ Episode 900/900 (3829.601000000001)"
     ]
    }
   ],
   "source": [
    "tf.reset_default_graph()\n",
    "\n",
    "global_step = tf.Variable(0, name=\"global_step\", trainable=False)\n",
    "policy_estimator = PolicyEstimator(scope='252941')\n",
    "value_estimator = ValueEstimator(scope='2205553')\n",
    "\n",
    "with tf.Session() as sess:\n",
    "    sess.run(tf.initialize_all_variables())\n",
    "    # Note, due to randomness in the policy the number of episodes you need to learn a good\n",
    "    # policy may vary. ~300 seemed to work well for me.\n",
    "    stats = actor_critic(env, policy_estimator, value_estimator, 900)"
   ]
  },
  {
   "cell_type": "code",
   "execution_count": 66,
   "metadata": {
    "collapsed": false
   },
   "outputs": [
    {
     "data": {
      "image/png": "[encoded data removed]",
      "text/plain": [
       "<matplotlib.figure.Figure at 0x11ee83ac8>"
      ]
     },
     "metadata": {},
     "output_type": "display_data"
    },
    {
     "data": {
      "image/png": "[encoded data removed]",
      "text/plain": [
       "<matplotlib.figure.Figure at 0x1264b3828>"
      ]
     },
     "metadata": {},
     "output_type": "display_data"
    },
    {
     "data": {
      "image/png": "[encoded data removed]",
      "text/plain": [
       "<matplotlib.figure.Figure at 0x120576d68>"
      ]
     },
     "metadata": {},
     "output_type": "display_data"
    },
    {
     "data": {
      "text/plain": [
       "(<matplotlib.figure.Figure at 0x11ee83ac8>,\n",
       " <matplotlib.figure.Figure at 0x1264b3828>,\n",
       " <matplotlib.figure.Figure at 0x120576d68>)"
      ]
     },
     "execution_count": 66,
     "metadata": {},
     "output_type": "execute_result"
    }
   ],
   "source": [
    "plotting.plot_episode_stats(stats, smoothing_window=10)"
   ]
  },
  {
   "cell_type": "code",
   "execution_count": null,
   "metadata": {
    "collapsed": true
   },
   "outputs": [],
   "source": []
  }
 ],
 "metadata": {
  "kernelspec": {
   "display_name": "Python 3",
   "language": "python",
   "name": "python3"
  },
  "language_info": {
   "codemirror_mode": {
    "name": "ipython",
    "version": 3
   },
   "file_extension": ".py",
   "mimetype": "text/x-python",
   "name": "python",
   "nbconvert_exporter": "python",
   "pygments_lexer": "ipython3",
   "version": "3.5.1"
  }
 },
 "nbformat": 4,
 "nbformat_minor": 0
}
